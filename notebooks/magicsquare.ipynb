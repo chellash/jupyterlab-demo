{
 "cells": [
  {
   "cell_type": "markdown",
   "metadata": {},
   "source": [
    "# Magic Square made easy"
   ]
  },
  {
   "cell_type": "markdown",
   "metadata": {},
   "source": [
    "## Step 1: Form a Square Matrix\n",
    "Let ‘n’ be the size of the Magic Square, say 5. \n",
    "<blockquote>Write numbers 1 to 25 (n x n) in sequence.</blockquote> \n",
    "Let us identify the final Matrix from below matrix. \n",
    "<table style=\"width:30%\">\n",
    "    <tr align=center><td>1</td><td>2</td><td>3</td><td>4</td><td>5</td></tr>\n",
    "    <tr align=center><td>6</td><td>7</td><td>8</td><td>9</td><td>10</td></tr>\n",
    "    <tr align=center><td>11</td><td>12</td><td>13</td><td>14</td><td bgcolor=green>15</td></tr>\n",
    "    <tr align=center><td>16</td><td>17</td><td bgcolor=yellow>18</td><td>19</td><td>20</td></tr>\n",
    "    <tr align=center><td>21</td><td>22</td><td>23</td><td>24</td><td>25</td></tr>\n",
    "</table>"
   ]
  },
  {
   "cell_type": "markdown",
   "metadata": {},
   "source": [
    "## Step 2: Row and Column Identifier Matrices\n",
    "\n",
    "Form two matrices of same size, one for identifying the row and another for column \n",
    "<blockquote> <b>Row identifier Matrix</b> is formed by numbering middle column from 1 to 5 and rest of the Columns on either side by subtracting and adding 1</blockquote>\n",
    "<table style=\"width:30%\">\n",
    "    <tr align=center><td bgcolor=yellow>4</td><td>5</td><td>1</td><td>2</td><td>3</td></tr>\n",
    "    <tr align=center><td>5</td><td>1</td><td>2</td><td>3</td><td>4</td></tr>\n",
    "    <tr align=center><td>1</td><td>2</td><td>3</td><td>4</td><td>5</td></tr>\n",
    "    <tr align=center><td>2</td><td bgcolor=green>3</td><td>4</td><td>5</td><td>1</td></tr>\n",
    "    <tr align=center><td>3</td><td>4</td><td>5</td><td>1</td><td>2</td></tr>\n",
    "</table>\n",
    "\n",
    "<blockquote> The <b>Column identifer Matrix</b> is a mirror image of row identifier matrix</blockquote>\n",
    "<table style=\"width:30%\">\n",
    "    <tr align=center><td bgcolor=yellow>3</td><td>2</td><td>1</td><td>5</td><td>4</td></tr>\n",
    "    <tr align=center><td>4</td><td>3</td><td>2</td><td>1</td><td>5</td></tr>\n",
    "    <tr align=center><td>5</td><td>4</td><td>3</td><td>2</td><td>1</td></tr>\n",
    "    <tr align=center><td>1</td><td bgcolor=green>5</td><td>4</td><td>3</td><td>2</td></tr>\n",
    "    <tr align=center><td>2</td><td>1</td><td>5</td><td>4</td><td>3</td></tr>\n",
    "</table>"
   ]
  },
  {
   "cell_type": "markdown",
   "metadata": {},
   "source": [
    "## Step 3: Final Matrix \n",
    "\n",
    "<blockquote> Super impose row and column matrices and find the number for each cell from the corresponding row and column in the first matrix </blockquote>\n",
    "\n",
    "For e.g </br>\n",
    "Using yellow cells in Step 2, 4th row 3rd column i.e 18 in Step 1 </br>\n",
    "Using green cells in Step 2, 3rd row 5th column i.e 15 in Step 1 </br>\n",
    "\n",
    "<table style=\"width:30%\">\n",
    "    <tr align=center><td bgcolor=yellow>18</td><td>22</td><td>1</td><td>10</td><td>14</td></tr>\n",
    "    <tr align=center><td>24</td><td>3</td><td>7</td><td>11</td><td>20</td></tr>\n",
    "    <tr align=center><td>5</td><td>9</td><td>13</td><td>17</td><td>21</td></tr>\n",
    "    <tr align=center><td>6</td><td bgcolor=green>15</td><td>19</td><td>23</td><td>2</td></tr>\n",
    "    <tr align=center><td>12</td><td>16</td><td>25</td><td>4</td><td>8</td></tr>\n",
    "</table>"
   ]
  },
  {
   "cell_type": "markdown",
   "metadata": {},
   "source": [
    "<blockquote> The above steps works for Magic Square of any size </blockquote>"
   ]
  },
  {
   "cell_type": "code",
   "execution_count": 1,
   "metadata": {},
   "outputs": [
    {
     "name": "stdout",
     "output_type": "stream",
     "text": [
      " 18  22   1  10  14 \n",
      " 24   3   7  11  20 \n",
      "  5   9  13  17  21 \n",
      "  6  15  19  23   2 \n",
      " 12  16  25   4   8 \n"
     ]
    }
   ],
   "source": [
    "\"\"\"\n",
    " Magic Square\n",
    "\"\"\"\n",
    "\n",
    "n = 5;\n",
    "for r in range(n):\n",
    "    for c in range(n):        \n",
    "        rm = (((n + 1) // 2 + r + c) % n) # row matrix\n",
    "        cm = (((n + 1) // 2 + r + n - c - 1) % n) + 1 # column matrix\n",
    "        magic = (rm * n) + cm\n",
    "        print('{:>3}'.format(magic), end=\" \")\n",
    "    print()"
   ]
  },
  {
   "cell_type": "markdown",
   "metadata": {},
   "source": [
    "> The above programe works for any size (n)"
   ]
  }
 ],
 "metadata": {
  "kernelspec": {
   "display_name": "Python 3",
   "language": "python",
   "name": "python3"
  },
  "language_info": {
   "codemirror_mode": {
    "name": "ipython",
    "version": 3
   },
   "file_extension": ".py",
   "mimetype": "text/x-python",
   "name": "python",
   "nbconvert_exporter": "python",
   "pygments_lexer": "ipython3",
   "version": "3.7.8"
  }
 },
 "nbformat": 4,
 "nbformat_minor": 4
}
